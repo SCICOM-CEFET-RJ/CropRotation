{
 "cells": [
  {
   "cell_type": "code",
   "execution_count": 596,
   "metadata": {},
   "outputs": [],
   "source": [
    "import numpy as np\n",
    "import pandas as pd"
   ]
  },
  {
   "cell_type": "code",
   "execution_count": 597,
   "metadata": {},
   "outputs": [],
   "source": [
    "import pulp"
   ]
  },
  {
   "cell_type": "code",
   "execution_count": 598,
   "metadata": {},
   "outputs": [],
   "source": [
    "def create_integer_vars(_crops_year, df):\n",
    "\n",
    "    return dict(zip(_crops_year.keys(),\n",
    "            [pulp.LpVariable(i, \n",
    "                                lowBound = df.loc[_crops_year[i], 'int_lb'] if not np.isnan(df.loc[_crops_year[i], 'int_lb']) else None, \n",
    "                                upBound  = df.loc[_crops_year[i], 'int_ub'] if not np.isnan(df.loc[_crops_year[i], 'int_ub']) else None,\n",
    "                                cat='Integer') \n",
    "                    for i in _crops_year.keys()]))"
   ]
  },
  {
   "cell_type": "code",
   "execution_count": 599,
   "metadata": {},
   "outputs": [],
   "source": [
    "def create_binary_vars(_crops_year, df):\n",
    "\n",
    "    return dict(zip(_crops_year.keys(),\n",
    "            [pulp.LpVariable(i, \n",
    "                                lowBound = df.loc[_crops_year[i], 'bin_lb'] if not np.isnan(df.loc[_crops_year[i], 'bin_lb']) else None, \n",
    "                                upBound  = df.loc[_crops_year[i], 'bin_ub'] if not np.isnan(df.loc[_crops_year[i], 'bin_ub']) else None,\n",
    "                                cat='Binary') \n",
    "                    for i in _crops_year.keys()]))"
   ]
  },
  {
   "cell_type": "code",
   "execution_count": 600,
   "metadata": {},
   "outputs": [],
   "source": [
    "def of_net_income(_cost, _vars, _crops_year):\n",
    "    return pulp.lpSum([getattr(_cost, _crops_year[i]) * _vars[i] for i in _crops_year])"
   ]
  },
  {
   "cell_type": "code",
   "execution_count": 601,
   "metadata": {},
   "outputs": [],
   "source": [
    "def of_ua_total(_vars, _crops_year):\n",
    "    return pulp.lpSum([_vars[i] for i in _crops_year])"
   ]
  },
  {
   "cell_type": "code",
   "execution_count": 602,
   "metadata": {},
   "outputs": [],
   "source": [
    "def of_crop_diversity(_vars, _crops_year):\n",
    "    return pulp.lpSum([_vars[i] for i in _crops_year])"
   ]
  },
  {
   "cell_type": "code",
   "execution_count": null,
   "metadata": {},
   "outputs": [],
   "source": [
    "def slice_dict(_crops_year, start, end):\n",
    "    crops = dict(list(_crops_year.items())[start:end])\n",
    "    return crops"
   ]
  },
  {
   "cell_type": "code",
   "execution_count": 603,
   "metadata": {},
   "outputs": [],
   "source": [
    "def add_constraints(_model, _var, _const, _crops_year, n_crops, n_years, const_id = 0):\n",
    "\n",
    "    for year in range(n_years):\n",
    "\n",
    "        crops = slice_dict(_crops_year, year * n_crops, (year + 1) * n_crops)\n",
    "    \n",
    "        for row in _const.itertuples():\n",
    "\n",
    "            constraint = pulp.lpSum([getattr(row, _crops_year[i]) * _var[i] for i in crops])\n",
    "            rhs = getattr(row, 'RHS')\n",
    "\n",
    "            match getattr(row, 'type'):\n",
    "                case '<=':\n",
    "                    constraint = constraint <= rhs\n",
    "                case '<':\n",
    "                    constraint = constraint < rhs\n",
    "                case '>=':\n",
    "                    constraint = constraint >= rhs\n",
    "                case '>':\n",
    "                    constraint = constraint > rhs\n",
    "                case '==':\n",
    "                    constraint = constraint == rhs\n",
    "            \n",
    "            _model += (constraint, f\"C_{const_id}_{getattr(row, 'name')}\", )\n",
    "\n",
    "            const_id += 1\n",
    "    \n",
    "    return const_id\n",
    "\n"
   ]
  },
  {
   "cell_type": "code",
   "execution_count": 604,
   "metadata": {},
   "outputs": [],
   "source": [
    "def add_binary_correlation(_model, _var_bin, _var_int, min_ua_crop, max_ua_available = (10**10),const_id = 0):\n",
    "    for var in _var_bin.keys():\n",
    "        constraint = min_ua_crop * _var_bin[var] - _var_int[var.replace('bin', 'int')]\n",
    "        _model += (constraint <= 0, f\"C_{const_id}_Min_UA_Per_Crop__Relation_Bin_Int\", )\n",
    "        const_id += 1\n",
    "\n",
    "        constraint = _var_int[var.replace('bin', 'int')] - max_ua_available * _var_bin[var] <= 0\n",
    "        _model += (constraint <= 0, f\"C_{const_id}_Relation_Bin_Int\", )\n",
    "        const_id += 1\n",
    "\n",
    "    return const_id"
   ]
  },
  {
   "cell_type": "code",
   "execution_count": null,
   "metadata": {},
   "outputs": [],
   "source": [
    "def add_constraints(_model, _var, _const, _crops_year, n_crops, n_years, const_id = 0):\n"
   ]
  },
  {
   "cell_type": "code",
   "execution_count": 619,
   "metadata": {},
   "outputs": [
    {
     "data": {
      "text/plain": [
       "'y1_int_teste'"
      ]
     },
     "execution_count": 619,
     "metadata": {},
     "output_type": "execute_result"
    }
   ],
   "source": [
    "a = 'y{}_int_{}'\n",
    "a.format(1, 'teste')"
   ]
  },
  {
   "cell_type": "code",
   "execution_count": null,
   "metadata": {},
   "outputs": [],
   "source": [
    "for year in range(1, n_years):\n",
    "    "
   ]
  },
  {
   "cell_type": "code",
   "execution_count": 618,
   "metadata": {},
   "outputs": [
    {
     "data": {
      "text/plain": [
       "{'y1_int_Wheat': 'Wheat',\n",
       " 'y1_int_Beetroot': 'Beetroot',\n",
       " 'y1_int_Cloves': 'Cloves',\n",
       " 'y1_int_Broad_Bean': 'Broad_Bean',\n",
       " 'y1_int_Green_Onion': 'Green_Onion',\n",
       " 'y1_int_Autumn_Potatoes': 'Autumn_Potatoes',\n",
       " 'y1_int_Sunflower': 'Sunflower',\n",
       " 'y1_int_Maize': 'Maize',\n",
       " 'y1_int_Tomatoes': 'Tomatoes',\n",
       " 'y1_int_Cucumbers': 'Cucumbers',\n",
       " 'y1_int_Okra': 'Okra',\n",
       " 'y1_int_Watermelon': 'Watermelon',\n",
       " 'y2_int_Wheat': 'Wheat',\n",
       " 'y2_int_Beetroot': 'Beetroot',\n",
       " 'y2_int_Cloves': 'Cloves',\n",
       " 'y2_int_Broad_Bean': 'Broad_Bean',\n",
       " 'y2_int_Green_Onion': 'Green_Onion',\n",
       " 'y2_int_Autumn_Potatoes': 'Autumn_Potatoes',\n",
       " 'y2_int_Sunflower': 'Sunflower',\n",
       " 'y2_int_Maize': 'Maize',\n",
       " 'y2_int_Tomatoes': 'Tomatoes',\n",
       " 'y2_int_Cucumbers': 'Cucumbers',\n",
       " 'y2_int_Okra': 'Okra',\n",
       " 'y2_int_Watermelon': 'Watermelon'}"
      ]
     },
     "execution_count": 618,
     "metadata": {},
     "output_type": "execute_result"
    }
   ],
   "source": [
    "crops_year_integer"
   ]
  },
  {
   "cell_type": "code",
   "execution_count": null,
   "metadata": {},
   "outputs": [],
   "source": [
    "for "
   ]
  },
  {
   "cell_type": "code",
   "execution_count": null,
   "metadata": {},
   "outputs": [],
   "source": [
    "def add_crop_rotation_constraints(_model, _var, _const, n_years, n_crops, string_var, const_id = 0):\n"
   ]
  },
  {
   "cell_type": "code",
   "execution_count": 605,
   "metadata": {},
   "outputs": [],
   "source": [
    "variables = pd.read_csv('dados/al_rasheed/variables.csv', sep=';')\n",
    "income = pd.read_csv('dados/al_rasheed/net_income.csv', sep=';')\n",
    "constraints = pd.read_csv('dados/al_rasheed/constraints.csv', sep=';')"
   ]
  },
  {
   "cell_type": "code",
   "execution_count": 606,
   "metadata": {},
   "outputs": [],
   "source": [
    "YEARS = 2"
   ]
  },
  {
   "cell_type": "code",
   "execution_count": 607,
   "metadata": {},
   "outputs": [],
   "source": [
    "crops = variables.variable.to_list()"
   ]
  },
  {
   "cell_type": "code",
   "execution_count": 608,
   "metadata": {},
   "outputs": [],
   "source": [
    "crops_year_integer = dict(zip([f\"y{i}_int_{j}\" for i in range(1,YEARS+1) for j in crops], YEARS*crops))\n",
    "\n",
    "crops_year_binary = dict(zip([f\"y{i}_bin_{j}\" for i in range(1,YEARS+1) for j in crops], YEARS*crops))"
   ]
  },
  {
   "cell_type": "code",
   "execution_count": 609,
   "metadata": {},
   "outputs": [],
   "source": [
    "variables.set_index(keys='variable', inplace=True)\n",
    "\n",
    "integer_vars = create_integer_vars(crops_year_integer, variables)\n",
    "\n",
    "binary_vars = create_binary_vars(crops_year_binary, variables)"
   ]
  },
  {
   "cell_type": "code",
   "execution_count": 610,
   "metadata": {},
   "outputs": [],
   "source": [
    "model = pulp.LpProblem(\"Modelo_1\", pulp.LpMaximize)"
   ]
  },
  {
   "cell_type": "code",
   "execution_count": 611,
   "metadata": {},
   "outputs": [],
   "source": [
    "model += of_net_income(income.loc[0,:], integer_vars, crops_year_integer)"
   ]
  },
  {
   "cell_type": "code",
   "execution_count": 612,
   "metadata": {},
   "outputs": [],
   "source": [
    "#of_ua_total(integer_vars, crops_year_integer)"
   ]
  },
  {
   "cell_type": "code",
   "execution_count": 613,
   "metadata": {},
   "outputs": [],
   "source": [
    "#of_crop_diversity(binary_vars, crops_year_binary)"
   ]
  },
  {
   "cell_type": "code",
   "execution_count": 614,
   "metadata": {},
   "outputs": [],
   "source": [
    "const_idx = add_constraints(model, integer_vars, constraints, crops_year_integer, len(crops), YEARS, const_id = 0)"
   ]
  },
  {
   "cell_type": "code",
   "execution_count": 615,
   "metadata": {},
   "outputs": [],
   "source": [
    "const_idx = add_binary_correlation(model, binary_vars, integer_vars, 113, const_id = const_idx)"
   ]
  },
  {
   "cell_type": "code",
   "execution_count": 616,
   "metadata": {},
   "outputs": [
    {
     "name": "stdout",
     "output_type": "stream",
     "text": [
      "GLPSOL--GLPK LP/MIP Solver 5.0\n",
      "Parameter(s) specified in the command line:\n",
      " --cpxlp /tmp/0302455f0d7d48f3a780bd145aadf60a-pulp.lp -o /tmp/0302455f0d7d48f3a780bd145aadf60a-pulp.sol\n",
      "Reading problem data from '/tmp/0302455f0d7d48f3a780bd145aadf60a-pulp.lp'...\n",
      "86 rows, 48 columns, 424 non-zeros\n",
      "48 integer variables, 24 of which are binary\n",
      "290 lines were read\n",
      "GLPK Integer Optimizer 5.0\n",
      "86 rows, 48 columns, 424 non-zeros\n",
      "48 integer variables, 24 of which are binary\n",
      "Preprocessing...\n",
      "24 constraint coefficient(s) were reduced\n",
      "62 rows, 48 columns, 236 non-zeros\n",
      "48 integer variables, 24 of which are binary\n",
      "Scaling...\n",
      " A: min|aij| =  1.000e+00  max|aij| =  2.260e+03  ratio =  2.260e+03\n",
      "GM: min|aij| =  4.457e-01  max|aij| =  2.244e+00  ratio =  5.033e+00\n",
      "EQ: min|aij| =  2.114e-01  max|aij| =  1.000e+00  ratio =  4.731e+00\n",
      "2N: min|aij| =  1.104e-01  max|aij| =  1.562e+00  ratio =  1.416e+01\n",
      "Constructing initial basis...\n",
      "Size of triangular part is 62\n",
      "Solving LP relaxation...\n",
      "GLPK Simplex Optimizer 5.0\n",
      "62 rows, 48 columns, 236 non-zeros\n",
      "      0: obj =   2.520000000e+05 inf =   2.400e+04 (2)\n",
      "      2: obj =   2.520000000e+05 inf =   0.000e+00 (0)\n",
      "*    18: obj =   1.268826829e+07 inf =   0.000e+00 (0)\n",
      "OPTIMAL LP SOLUTION FOUND\n",
      "Integer optimization begins...\n",
      "Long-step dual simplex will be used\n",
      "+    18: mip =     not found yet <=              +inf        (1; 0)\n",
      "+    34: >>>>>   1.263043680e+07 <=   1.268598836e+07   0.4% (9; 0)\n",
      "Solution found by heuristic: 12647722.4\n",
      "Solution found by heuristic: 12665008\n",
      "+   102: mip =   1.266500800e+07 <=     tree is empty   0.0% (0; 45)\n",
      "INTEGER OPTIMAL SOLUTION FOUND\n",
      "Time used:   0.0 secs\n",
      "Memory used: 0.2 Mb (180932 bytes)\n",
      "Writing MIP solution to '/tmp/0302455f0d7d48f3a780bd145aadf60a-pulp.sol'...\n",
      "\n",
      "Status = Optimal \n",
      "Value = 12665008.0\n"
     ]
    }
   ],
   "source": [
    "solution = model.solve(pulp.GLPK())\n",
    "\n",
    "print(\"\\nStatus = {} \\nValue = {}\".format(pulp.LpStatus[solution], pulp.value(model.objective)))"
   ]
  },
  {
   "cell_type": "markdown",
   "metadata": {},
   "source": [
    "12559922.4 | 6332504"
   ]
  },
  {
   "cell_type": "code",
   "execution_count": 617,
   "metadata": {},
   "outputs": [
    {
     "data": {
      "text/plain": [
       "Modelo_1:\n",
       "MAXIMIZE\n",
       "1080.0*y1_int_Autumn_Potatoes + 1013.6*y1_int_Beetroot + 2206.4*y1_int_Broad_Bean + 907.2*y1_int_Cloves + 909.6*y1_int_Cucumbers + 412.0*y1_int_Green_Onion + 1400.0*y1_int_Maize + 2488.0*y1_int_Okra + 1048.8*y1_int_Sunflower + 1252.0*y1_int_Tomatoes + 1092.0*y1_int_Watermelon + 84.0*y1_int_Wheat + 1080.0*y2_int_Autumn_Potatoes + 1013.6*y2_int_Beetroot + 2206.4*y2_int_Broad_Bean + 907.2*y2_int_Cloves + 909.6*y2_int_Cucumbers + 412.0*y2_int_Green_Onion + 1400.0*y2_int_Maize + 2488.0*y2_int_Okra + 1048.8*y2_int_Sunflower + 1252.0*y2_int_Tomatoes + 1092.0*y2_int_Watermelon + 84.0*y2_int_Wheat + 0.0\n",
       "SUBJECT TO\n",
       "C_0_C_1: y1_int_Autumn_Potatoes + y1_int_Beetroot + y1_int_Broad_Bean\n",
       " + y1_int_Cloves + y1_int_Green_Onion + y1_int_Wheat <= 2395\n",
       "\n",
       "C_1_C_2: y1_int_Cucumbers + y1_int_Maize + y1_int_Okra + y1_int_Sunflower\n",
       " + y1_int_Tomatoes + y1_int_Watermelon <= 2260\n",
       "\n",
       "C_2_C_3: 100 y1_int_Autumn_Potatoes + 50 y1_int_Beetroot\n",
       " + 50 y1_int_Broad_Bean + 50 y1_int_Cloves + 100 y1_int_Cucumbers\n",
       " + 100 y1_int_Green_Onion + 100 y1_int_Maize + 100 y1_int_Okra\n",
       " + 50 y1_int_Sunflower + 100 y1_int_Tomatoes + 100 y1_int_Watermelon\n",
       " + 100 y1_int_Wheat <= 419190\n",
       "\n",
       "C_3_C_4: 150 y1_int_Autumn_Potatoes + 50 y1_int_Beetroot\n",
       " + 25 y1_int_Broad_Bean + 50 y1_int_Cloves + 50 y1_int_Cucumbers\n",
       " + 50 y1_int_Green_Onion + 100 y1_int_Maize + 50 y1_int_Okra\n",
       " + 50 y1_int_Sunflower + 100 y1_int_Tomatoes + 50 y1_int_Watermelon\n",
       " + 100 y1_int_Wheat <= 397560\n",
       "\n",
       "C_4_C_5: 12 y1_int_Autumn_Potatoes + 12 y1_int_Tomatoes <= 7000\n",
       "\n",
       "C_5_C_6: 3 y1_int_Autumn_Potatoes + y1_int_Beetroot + y1_int_Broad_Bean\n",
       " + 2 y1_int_Cloves + 2 y1_int_Cucumbers + y1_int_Green_Onion + 2 y1_int_Maize\n",
       " + 3 y1_int_Okra + y1_int_Sunflower + 2 y1_int_Tomatoes + y1_int_Watermelon\n",
       " + y1_int_Wheat <= 13075\n",
       "\n",
       "C_6_C_7: 60 y1_int_Autumn_Potatoes + 29 y1_int_Beetroot + 14 y1_int_Broad_Bean\n",
       " + 32 y1_int_Cloves + 13 y1_int_Cucumbers + 54 y1_int_Green_Onion\n",
       " + 29 y1_int_Okra + 18 y1_int_Tomatoes + 8 y1_int_Watermelon + 6 y1_int_Wheat\n",
       " <= 50593\n",
       "\n",
       "C_7_C_8: 23 y1_int_Broad_Bean + 17 y1_int_Cloves + 102 y1_int_Cucumbers\n",
       " + 6 y1_int_Maize + 77 y1_int_Okra + 22 y1_int_Sunflower + 50 y1_int_Tomatoes\n",
       " + 31 y1_int_Watermelon + 2 y1_int_Wheat <= 554800\n",
       "\n",
       "C_8_C_8: 12 y1_int_Autumn_Potatoes + 24 y1_int_Maize + 112 y1_int_Okra\n",
       " + 35 y1_int_Sunflower + 80 y1_int_Tomatoes + 58 y1_int_Watermelon <= 562400\n",
       "\n",
       "C_9_C_10: 22 y1_int_Autumn_Potatoes + 8 y1_int_Beetroot + 34 y1_int_Broad_Bean\n",
       " + 7 y1_int_Cloves + 26 y1_int_Green_Onion + 43 y1_int_Okra\n",
       " + 52 y1_int_Tomatoes + 9 y1_int_Wheat <= 562400\n",
       "\n",
       "C_10_C_11: 1.5 y1_int_Autumn_Potatoes + 1.5 y1_int_Beetroot\n",
       " + 1.5 y1_int_Broad_Bean + 1.5 y1_int_Cloves + 1.5 y1_int_Cucumbers\n",
       " + 1.5 y1_int_Green_Onion + 1.5 y1_int_Maize + 1.5 y1_int_Okra\n",
       " + 1.5 y1_int_Sunflower + 1.5 y1_int_Tomatoes + 1.5 y1_int_Watermelon\n",
       " + 1.5 y1_int_Wheat <= 103056\n",
       "\n",
       "C_11_C_12: y1_int_Autumn_Potatoes + y1_int_Beetroot + y1_int_Broad_Bean\n",
       " + y1_int_Cloves + y1_int_Cucumbers + y1_int_Green_Onion + y1_int_Maize\n",
       " + y1_int_Okra + y1_int_Sunflower + y1_int_Tomatoes + y1_int_Watermelon\n",
       " + y1_int_Wheat <= 103056\n",
       "\n",
       "C_12_C_13: 0.5 y1_int_Autumn_Potatoes + 0.5 y1_int_Beetroot\n",
       " + 0.5 y1_int_Broad_Bean + 0.5 y1_int_Cloves + 0.5 y1_int_Cucumbers\n",
       " + 0.5 y1_int_Green_Onion + 0.5 y1_int_Maize + 0.5 y1_int_Okra\n",
       " + 0.5 y1_int_Sunflower + 0.5 y1_int_Tomatoes + 0.5 y1_int_Watermelon\n",
       " + 0.5 y1_int_Wheat <= 103056\n",
       "\n",
       "C_13_C_14: 0.5 y1_int_Wheat <= 954\n",
       "\n",
       "C_14_C_15: 355 y1_int_Beetroot + 430 y1_int_Broad_Bean + 370 y1_int_Cloves\n",
       " + 133 y1_int_Cucumbers + 440 y1_int_Green_Onion + 213 y1_int_Okra\n",
       " + 275 y1_int_Sunflower + 100 y1_int_Tomatoes + 100 y1_int_Watermelon\n",
       " + 390 y1_int_Wheat <= 20699716\n",
       "\n",
       "C_15_C_16: 305 y1_int_Broad_Bean + 470 y1_int_Cloves + 955 y1_int_Cucumbers\n",
       " + 188 y1_int_Maize + 1343 y1_int_Okra + 1430 y1_int_Sunflower\n",
       " + 1015 y1_int_Tomatoes + 1215 y1_int_Watermelon + 275 y1_int_Wheat\n",
       " <= 20929709\n",
       "\n",
       "C_16_C_17: 750 y1_int_Autumn_Potatoes + 150 y1_int_Cloves + 840 y1_int_Maize\n",
       " + 1748 y1_int_Okra + 443 y1_int_Sunflower + 1683 y1_int_Tomatoes\n",
       " + 1095 y1_int_Watermelon <= 21159705\n",
       "\n",
       "C_17_C_18: 860 y1_int_Autumn_Potatoes + 295 y1_int_Beetroot\n",
       " + 303 y1_int_Broad_Bean + 305 y1_int_Cloves + 210 y1_int_Green_Onion\n",
       " + 300 y1_int_Wheat <= 21159705\n",
       "\n",
       "C_18_C_19: 520 y1_int_Autumn_Potatoes + 186.4 y1_int_Beetroot\n",
       " + 193.6 y1_int_Broad_Bean + 172.8 y1_int_Cloves + 210.4 y1_int_Cucumbers\n",
       " + 288 y1_int_Green_Onion + 193.6 y1_int_Maize + 200 y1_int_Okra\n",
       " + 195.2 y1_int_Sunflower + 248 y1_int_Tomatoes + 228 y1_int_Watermelon\n",
       " + 276 y1_int_Wheat <= 1156684\n",
       "\n",
       "C_19_C_1: y2_int_Autumn_Potatoes + y2_int_Beetroot + y2_int_Broad_Bean\n",
       " + y2_int_Cloves + y2_int_Green_Onion + y2_int_Wheat <= 2395\n",
       "\n",
       "C_20_C_2: y2_int_Cucumbers + y2_int_Maize + y2_int_Okra + y2_int_Sunflower\n",
       " + y2_int_Tomatoes + y2_int_Watermelon <= 2260\n",
       "\n",
       "C_21_C_3: 100 y2_int_Autumn_Potatoes + 50 y2_int_Beetroot\n",
       " + 50 y2_int_Broad_Bean + 50 y2_int_Cloves + 100 y2_int_Cucumbers\n",
       " + 100 y2_int_Green_Onion + 100 y2_int_Maize + 100 y2_int_Okra\n",
       " + 50 y2_int_Sunflower + 100 y2_int_Tomatoes + 100 y2_int_Watermelon\n",
       " + 100 y2_int_Wheat <= 419190\n",
       "\n",
       "C_22_C_4: 150 y2_int_Autumn_Potatoes + 50 y2_int_Beetroot\n",
       " + 25 y2_int_Broad_Bean + 50 y2_int_Cloves + 50 y2_int_Cucumbers\n",
       " + 50 y2_int_Green_Onion + 100 y2_int_Maize + 50 y2_int_Okra\n",
       " + 50 y2_int_Sunflower + 100 y2_int_Tomatoes + 50 y2_int_Watermelon\n",
       " + 100 y2_int_Wheat <= 397560\n",
       "\n",
       "C_23_C_5: 12 y2_int_Autumn_Potatoes + 12 y2_int_Tomatoes <= 7000\n",
       "\n",
       "C_24_C_6: 3 y2_int_Autumn_Potatoes + y2_int_Beetroot + y2_int_Broad_Bean\n",
       " + 2 y2_int_Cloves + 2 y2_int_Cucumbers + y2_int_Green_Onion + 2 y2_int_Maize\n",
       " + 3 y2_int_Okra + y2_int_Sunflower + 2 y2_int_Tomatoes + y2_int_Watermelon\n",
       " + y2_int_Wheat <= 13075\n",
       "\n",
       "C_25_C_7: 60 y2_int_Autumn_Potatoes + 29 y2_int_Beetroot\n",
       " + 14 y2_int_Broad_Bean + 32 y2_int_Cloves + 13 y2_int_Cucumbers\n",
       " + 54 y2_int_Green_Onion + 29 y2_int_Okra + 18 y2_int_Tomatoes\n",
       " + 8 y2_int_Watermelon + 6 y2_int_Wheat <= 50593\n",
       "\n",
       "C_26_C_8: 23 y2_int_Broad_Bean + 17 y2_int_Cloves + 102 y2_int_Cucumbers\n",
       " + 6 y2_int_Maize + 77 y2_int_Okra + 22 y2_int_Sunflower + 50 y2_int_Tomatoes\n",
       " + 31 y2_int_Watermelon + 2 y2_int_Wheat <= 554800\n",
       "\n",
       "C_27_C_8: 12 y2_int_Autumn_Potatoes + 24 y2_int_Maize + 112 y2_int_Okra\n",
       " + 35 y2_int_Sunflower + 80 y2_int_Tomatoes + 58 y2_int_Watermelon <= 562400\n",
       "\n",
       "C_28_C_10: 22 y2_int_Autumn_Potatoes + 8 y2_int_Beetroot\n",
       " + 34 y2_int_Broad_Bean + 7 y2_int_Cloves + 26 y2_int_Green_Onion\n",
       " + 43 y2_int_Okra + 52 y2_int_Tomatoes + 9 y2_int_Wheat <= 562400\n",
       "\n",
       "C_29_C_11: 1.5 y2_int_Autumn_Potatoes + 1.5 y2_int_Beetroot\n",
       " + 1.5 y2_int_Broad_Bean + 1.5 y2_int_Cloves + 1.5 y2_int_Cucumbers\n",
       " + 1.5 y2_int_Green_Onion + 1.5 y2_int_Maize + 1.5 y2_int_Okra\n",
       " + 1.5 y2_int_Sunflower + 1.5 y2_int_Tomatoes + 1.5 y2_int_Watermelon\n",
       " + 1.5 y2_int_Wheat <= 103056\n",
       "\n",
       "C_30_C_12: y2_int_Autumn_Potatoes + y2_int_Beetroot + y2_int_Broad_Bean\n",
       " + y2_int_Cloves + y2_int_Cucumbers + y2_int_Green_Onion + y2_int_Maize\n",
       " + y2_int_Okra + y2_int_Sunflower + y2_int_Tomatoes + y2_int_Watermelon\n",
       " + y2_int_Wheat <= 103056\n",
       "\n",
       "C_31_C_13: 0.5 y2_int_Autumn_Potatoes + 0.5 y2_int_Beetroot\n",
       " + 0.5 y2_int_Broad_Bean + 0.5 y2_int_Cloves + 0.5 y2_int_Cucumbers\n",
       " + 0.5 y2_int_Green_Onion + 0.5 y2_int_Maize + 0.5 y2_int_Okra\n",
       " + 0.5 y2_int_Sunflower + 0.5 y2_int_Tomatoes + 0.5 y2_int_Watermelon\n",
       " + 0.5 y2_int_Wheat <= 103056\n",
       "\n",
       "C_32_C_14: 0.5 y2_int_Wheat <= 954\n",
       "\n",
       "C_33_C_15: 355 y2_int_Beetroot + 430 y2_int_Broad_Bean + 370 y2_int_Cloves\n",
       " + 133 y2_int_Cucumbers + 440 y2_int_Green_Onion + 213 y2_int_Okra\n",
       " + 275 y2_int_Sunflower + 100 y2_int_Tomatoes + 100 y2_int_Watermelon\n",
       " + 390 y2_int_Wheat <= 20699716\n",
       "\n",
       "C_34_C_16: 305 y2_int_Broad_Bean + 470 y2_int_Cloves + 955 y2_int_Cucumbers\n",
       " + 188 y2_int_Maize + 1343 y2_int_Okra + 1430 y2_int_Sunflower\n",
       " + 1015 y2_int_Tomatoes + 1215 y2_int_Watermelon + 275 y2_int_Wheat\n",
       " <= 20929709\n",
       "\n",
       "C_35_C_17: 750 y2_int_Autumn_Potatoes + 150 y2_int_Cloves + 840 y2_int_Maize\n",
       " + 1748 y2_int_Okra + 443 y2_int_Sunflower + 1683 y2_int_Tomatoes\n",
       " + 1095 y2_int_Watermelon <= 21159705\n",
       "\n",
       "C_36_C_18: 860 y2_int_Autumn_Potatoes + 295 y2_int_Beetroot\n",
       " + 303 y2_int_Broad_Bean + 305 y2_int_Cloves + 210 y2_int_Green_Onion\n",
       " + 300 y2_int_Wheat <= 21159705\n",
       "\n",
       "C_37_C_19: 520 y2_int_Autumn_Potatoes + 186.4 y2_int_Beetroot\n",
       " + 193.6 y2_int_Broad_Bean + 172.8 y2_int_Cloves + 210.4 y2_int_Cucumbers\n",
       " + 288 y2_int_Green_Onion + 193.6 y2_int_Maize + 200 y2_int_Okra\n",
       " + 195.2 y2_int_Sunflower + 248 y2_int_Tomatoes + 228 y2_int_Watermelon\n",
       " + 276 y2_int_Wheat <= 1156684\n",
       "\n",
       "C_38_Min_UA_Per_Crop__Relation_Bin_Int: 113 y1_bin_Wheat - y1_int_Wheat <= 0\n",
       "\n",
       "C_39_Relation_Bin_Int: - 10000000000 y1_bin_Wheat + y1_int_Wheat <= 0\n",
       "\n",
       "C_40_Min_UA_Per_Crop__Relation_Bin_Int: 113 y1_bin_Beetroot - y1_int_Beetroot\n",
       " <= 0\n",
       "\n",
       "C_41_Relation_Bin_Int: - 10000000000 y1_bin_Beetroot + y1_int_Beetroot <= 0\n",
       "\n",
       "C_42_Min_UA_Per_Crop__Relation_Bin_Int: 113 y1_bin_Cloves - y1_int_Cloves <= 0\n",
       "\n",
       "C_43_Relation_Bin_Int: - 10000000000 y1_bin_Cloves + y1_int_Cloves <= 0\n",
       "\n",
       "C_44_Min_UA_Per_Crop__Relation_Bin_Int: 113 y1_bin_Broad_Bean\n",
       " - y1_int_Broad_Bean <= 0\n",
       "\n",
       "C_45_Relation_Bin_Int: - 10000000000 y1_bin_Broad_Bean + y1_int_Broad_Bean\n",
       " <= 0\n",
       "\n",
       "C_46_Min_UA_Per_Crop__Relation_Bin_Int: 113 y1_bin_Green_Onion\n",
       " - y1_int_Green_Onion <= 0\n",
       "\n",
       "C_47_Relation_Bin_Int: - 10000000000 y1_bin_Green_Onion + y1_int_Green_Onion\n",
       " <= 0\n",
       "\n",
       "C_48_Min_UA_Per_Crop__Relation_Bin_Int: 113 y1_bin_Autumn_Potatoes\n",
       " - y1_int_Autumn_Potatoes <= 0\n",
       "\n",
       "C_49_Relation_Bin_Int: - 10000000000 y1_bin_Autumn_Potatoes\n",
       " + y1_int_Autumn_Potatoes <= 0\n",
       "\n",
       "C_50_Min_UA_Per_Crop__Relation_Bin_Int: 113 y1_bin_Sunflower\n",
       " - y1_int_Sunflower <= 0\n",
       "\n",
       "C_51_Relation_Bin_Int: - 10000000000 y1_bin_Sunflower + y1_int_Sunflower <= 0\n",
       "\n",
       "C_52_Min_UA_Per_Crop__Relation_Bin_Int: 113 y1_bin_Maize - y1_int_Maize <= 0\n",
       "\n",
       "C_53_Relation_Bin_Int: - 10000000000 y1_bin_Maize + y1_int_Maize <= 0\n",
       "\n",
       "C_54_Min_UA_Per_Crop__Relation_Bin_Int: 113 y1_bin_Tomatoes - y1_int_Tomatoes\n",
       " <= 0\n",
       "\n",
       "C_55_Relation_Bin_Int: - 10000000000 y1_bin_Tomatoes + y1_int_Tomatoes <= 0\n",
       "\n",
       "C_56_Min_UA_Per_Crop__Relation_Bin_Int: 113 y1_bin_Cucumbers\n",
       " - y1_int_Cucumbers <= 0\n",
       "\n",
       "C_57_Relation_Bin_Int: - 10000000000 y1_bin_Cucumbers + y1_int_Cucumbers <= 0\n",
       "\n",
       "C_58_Min_UA_Per_Crop__Relation_Bin_Int: 113 y1_bin_Okra - y1_int_Okra <= 0\n",
       "\n",
       "C_59_Relation_Bin_Int: - 10000000000 y1_bin_Okra + y1_int_Okra <= 0\n",
       "\n",
       "C_60_Min_UA_Per_Crop__Relation_Bin_Int: 113 y1_bin_Watermelon\n",
       " - y1_int_Watermelon <= 0\n",
       "\n",
       "C_61_Relation_Bin_Int: - 10000000000 y1_bin_Watermelon + y1_int_Watermelon\n",
       " <= 0\n",
       "\n",
       "C_62_Min_UA_Per_Crop__Relation_Bin_Int: 113 y2_bin_Wheat - y2_int_Wheat <= 0\n",
       "\n",
       "C_63_Relation_Bin_Int: - 10000000000 y2_bin_Wheat + y2_int_Wheat <= 0\n",
       "\n",
       "C_64_Min_UA_Per_Crop__Relation_Bin_Int: 113 y2_bin_Beetroot - y2_int_Beetroot\n",
       " <= 0\n",
       "\n",
       "C_65_Relation_Bin_Int: - 10000000000 y2_bin_Beetroot + y2_int_Beetroot <= 0\n",
       "\n",
       "C_66_Min_UA_Per_Crop__Relation_Bin_Int: 113 y2_bin_Cloves - y2_int_Cloves <= 0\n",
       "\n",
       "C_67_Relation_Bin_Int: - 10000000000 y2_bin_Cloves + y2_int_Cloves <= 0\n",
       "\n",
       "C_68_Min_UA_Per_Crop__Relation_Bin_Int: 113 y2_bin_Broad_Bean\n",
       " - y2_int_Broad_Bean <= 0\n",
       "\n",
       "C_69_Relation_Bin_Int: - 10000000000 y2_bin_Broad_Bean + y2_int_Broad_Bean\n",
       " <= 0\n",
       "\n",
       "C_70_Min_UA_Per_Crop__Relation_Bin_Int: 113 y2_bin_Green_Onion\n",
       " - y2_int_Green_Onion <= 0\n",
       "\n",
       "C_71_Relation_Bin_Int: - 10000000000 y2_bin_Green_Onion + y2_int_Green_Onion\n",
       " <= 0\n",
       "\n",
       "C_72_Min_UA_Per_Crop__Relation_Bin_Int: 113 y2_bin_Autumn_Potatoes\n",
       " - y2_int_Autumn_Potatoes <= 0\n",
       "\n",
       "C_73_Relation_Bin_Int: - 10000000000 y2_bin_Autumn_Potatoes\n",
       " + y2_int_Autumn_Potatoes <= 0\n",
       "\n",
       "C_74_Min_UA_Per_Crop__Relation_Bin_Int: 113 y2_bin_Sunflower\n",
       " - y2_int_Sunflower <= 0\n",
       "\n",
       "C_75_Relation_Bin_Int: - 10000000000 y2_bin_Sunflower + y2_int_Sunflower <= 0\n",
       "\n",
       "C_76_Min_UA_Per_Crop__Relation_Bin_Int: 113 y2_bin_Maize - y2_int_Maize <= 0\n",
       "\n",
       "C_77_Relation_Bin_Int: - 10000000000 y2_bin_Maize + y2_int_Maize <= 0\n",
       "\n",
       "C_78_Min_UA_Per_Crop__Relation_Bin_Int: 113 y2_bin_Tomatoes - y2_int_Tomatoes\n",
       " <= 0\n",
       "\n",
       "C_79_Relation_Bin_Int: - 10000000000 y2_bin_Tomatoes + y2_int_Tomatoes <= 0\n",
       "\n",
       "C_80_Min_UA_Per_Crop__Relation_Bin_Int: 113 y2_bin_Cucumbers\n",
       " - y2_int_Cucumbers <= 0\n",
       "\n",
       "C_81_Relation_Bin_Int: - 10000000000 y2_bin_Cucumbers + y2_int_Cucumbers <= 0\n",
       "\n",
       "C_82_Min_UA_Per_Crop__Relation_Bin_Int: 113 y2_bin_Okra - y2_int_Okra <= 0\n",
       "\n",
       "C_83_Relation_Bin_Int: - 10000000000 y2_bin_Okra + y2_int_Okra <= 0\n",
       "\n",
       "C_84_Min_UA_Per_Crop__Relation_Bin_Int: 113 y2_bin_Watermelon\n",
       " - y2_int_Watermelon <= 0\n",
       "\n",
       "C_85_Relation_Bin_Int: - 10000000000 y2_bin_Watermelon + y2_int_Watermelon\n",
       " <= 0\n",
       "\n",
       "VARIABLES\n",
       "0 <= y1_bin_Autumn_Potatoes <= 1 Integer\n",
       "0 <= y1_bin_Beetroot <= 1 Integer\n",
       "0 <= y1_bin_Broad_Bean <= 1 Integer\n",
       "0 <= y1_bin_Cloves <= 1 Integer\n",
       "0 <= y1_bin_Cucumbers <= 1 Integer\n",
       "0 <= y1_bin_Green_Onion <= 1 Integer\n",
       "0 <= y1_bin_Maize <= 1 Integer\n",
       "0 <= y1_bin_Okra <= 1 Integer\n",
       "0 <= y1_bin_Sunflower <= 1 Integer\n",
       "0 <= y1_bin_Tomatoes <= 1 Integer\n",
       "0 <= y1_bin_Watermelon <= 1 Integer\n",
       "0 <= y1_bin_Wheat <= 1 Integer\n",
       "0 <= y1_int_Autumn_Potatoes Integer\n",
       "0 <= y1_int_Beetroot Integer\n",
       "0 <= y1_int_Broad_Bean Integer\n",
       "0 <= y1_int_Cloves Integer\n",
       "0 <= y1_int_Cucumbers Integer\n",
       "0 <= y1_int_Green_Onion Integer\n",
       "0 <= y1_int_Maize Integer\n",
       "0 <= y1_int_Okra Integer\n",
       "0 <= y1_int_Sunflower Integer\n",
       "0 <= y1_int_Tomatoes Integer\n",
       "0 <= y1_int_Watermelon Integer\n",
       "1500 <= y1_int_Wheat Integer\n",
       "0 <= y2_bin_Autumn_Potatoes <= 1 Integer\n",
       "0 <= y2_bin_Beetroot <= 1 Integer\n",
       "0 <= y2_bin_Broad_Bean <= 1 Integer\n",
       "0 <= y2_bin_Cloves <= 1 Integer\n",
       "0 <= y2_bin_Cucumbers <= 1 Integer\n",
       "0 <= y2_bin_Green_Onion <= 1 Integer\n",
       "0 <= y2_bin_Maize <= 1 Integer\n",
       "0 <= y2_bin_Okra <= 1 Integer\n",
       "0 <= y2_bin_Sunflower <= 1 Integer\n",
       "0 <= y2_bin_Tomatoes <= 1 Integer\n",
       "0 <= y2_bin_Watermelon <= 1 Integer\n",
       "0 <= y2_bin_Wheat <= 1 Integer\n",
       "0 <= y2_int_Autumn_Potatoes Integer\n",
       "0 <= y2_int_Beetroot Integer\n",
       "0 <= y2_int_Broad_Bean Integer\n",
       "0 <= y2_int_Cloves Integer\n",
       "0 <= y2_int_Cucumbers Integer\n",
       "0 <= y2_int_Green_Onion Integer\n",
       "0 <= y2_int_Maize Integer\n",
       "0 <= y2_int_Okra Integer\n",
       "0 <= y2_int_Sunflower Integer\n",
       "0 <= y2_int_Tomatoes Integer\n",
       "0 <= y2_int_Watermelon Integer\n",
       "1500 <= y2_int_Wheat Integer"
      ]
     },
     "execution_count": 617,
     "metadata": {},
     "output_type": "execute_result"
    }
   ],
   "source": [
    "model"
   ]
  }
 ],
 "metadata": {
  "kernelspec": {
   "display_name": "OtimizacaoLinear",
   "language": "python",
   "name": "python3"
  },
  "language_info": {
   "codemirror_mode": {
    "name": "ipython",
    "version": 3
   },
   "file_extension": ".py",
   "mimetype": "text/x-python",
   "name": "python",
   "nbconvert_exporter": "python",
   "pygments_lexer": "ipython3",
   "version": "3.10.12"
  },
  "orig_nbformat": 4
 },
 "nbformat": 4,
 "nbformat_minor": 2
}
