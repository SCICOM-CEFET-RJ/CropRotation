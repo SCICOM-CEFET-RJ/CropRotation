{
 "cells": [
  {
   "cell_type": "code",
   "execution_count": 55,
   "metadata": {},
   "outputs": [],
   "source": [
    "import numpy as np\n",
    "import pandas as pd"
   ]
  },
  {
   "cell_type": "code",
   "execution_count": 56,
   "metadata": {},
   "outputs": [],
   "source": [
    "import pulp"
   ]
  },
  {
   "cell_type": "code",
   "execution_count": 57,
   "metadata": {},
   "outputs": [],
   "source": [
    "def create_vars(_crops_year, df):\n",
    "\n",
    "    return dict(zip(_crops_year.keys(),\n",
    "            [pulp.LpVariable(i, \n",
    "                                lowBound = df.loc[_crops_year[i], 'lb'] if not np.isnan(df.loc[_crops_year[i], 'lb']) else None, \n",
    "                                upBound  = df.loc[_crops_year[i], 'ub'] if not np.isnan(df.loc[_crops_year[i], 'ub']) else None) \n",
    "                    for i in _crops_year.keys()]))"
   ]
  },
  {
   "cell_type": "code",
   "execution_count": 58,
   "metadata": {},
   "outputs": [],
   "source": [
    "integer_variables = pd.read_csv('dados/al_rasheed/integer_variables.csv', sep=';')\n",
    "crops = integer_variables.variable.to_list()\n",
    "integer_variables.set_index(keys='variable', inplace=True)"
   ]
  },
  {
   "cell_type": "code",
   "execution_count": 59,
   "metadata": {},
   "outputs": [],
   "source": [
    "income = pd.read_csv('dados/al_rasheed/net_income.csv', sep=';')\n",
    "constraints = pd.read_csv('dados/al_rasheed/constraints.csv', sep=';')"
   ]
  },
  {
   "cell_type": "code",
   "execution_count": 60,
   "metadata": {},
   "outputs": [],
   "source": [
    "YEARS = 1"
   ]
  },
  {
   "cell_type": "code",
   "execution_count": 61,
   "metadata": {},
   "outputs": [],
   "source": [
    "crops_year = dict(zip([f\"{i}y_{j}\" for i in range(1,YEARS+1) for j in crops], YEARS*crops))\n"
   ]
  }
 ],
 "metadata": {
  "kernelspec": {
   "display_name": "OtimizacaoLinear",
   "language": "python",
   "name": "python3"
  },
  "language_info": {
   "codemirror_mode": {
    "name": "ipython",
    "version": 3
   },
   "file_extension": ".py",
   "mimetype": "text/x-python",
   "name": "python",
   "nbconvert_exporter": "python",
   "pygments_lexer": "ipython3",
   "version": "3.10.12"
  },
  "orig_nbformat": 4
 },
 "nbformat": 4,
 "nbformat_minor": 2
}
