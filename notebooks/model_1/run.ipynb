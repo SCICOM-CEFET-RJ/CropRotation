{
 "cells": [
  {
   "cell_type": "code",
   "execution_count": 1,
   "metadata": {},
   "outputs": [],
   "source": [
    "for _y in range(1, 100):\n",
    "    YEARS = _y\n",
    "    %run \"01_EpsilonConstraintModel.ipynb\""
   ]
  }
 ],
 "metadata": {
  "kernelspec": {
   "display_name": "OtimizacaoLinear",
   "language": "python",
   "name": "python3"
  },
  "language_info": {
   "codemirror_mode": {
    "name": "ipython",
    "version": 3
   },
   "file_extension": ".py",
   "mimetype": "text/x-python",
   "name": "python",
   "nbconvert_exporter": "python",
   "pygments_lexer": "ipython3",
   "version": "3.10.12"
  }
 },
 "nbformat": 4,
 "nbformat_minor": 2
}
