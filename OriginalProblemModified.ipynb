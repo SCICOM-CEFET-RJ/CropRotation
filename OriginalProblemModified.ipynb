{
 "cells": [
  {
   "cell_type": "code",
   "execution_count": 1,
   "metadata": {},
   "outputs": [],
   "source": [
    "from matplotlib import pyplot as plt\n",
    "from matplotlib.colors import LinearSegmentedColormap\n",
    "import seaborn as sns\n",
    "import plotly.express as px"
   ]
  },
  {
   "cell_type": "code",
   "execution_count": 2,
   "metadata": {},
   "outputs": [],
   "source": [
    "import numpy as np\n",
    "import pandas as pd"
   ]
  },
  {
   "cell_type": "code",
   "execution_count": 3,
   "metadata": {},
   "outputs": [],
   "source": [
    "import pulp"
   ]
  },
  {
   "cell_type": "code",
   "execution_count": 4,
   "metadata": {},
   "outputs": [],
   "source": [
    "def bmatrix(a):\n",
    "    if len(a.shape) > 2:\n",
    "        raise ValueError('bmatrix can at most display two dimensions')\n",
    "    lines = str(a).replace('[', '').replace(']', '').splitlines()\n",
    "    rv = [r'\\begin{bmatrix}']\n",
    "    rv += ['  ' + ' & '.join(l.split()) + r'\\\\' for l in lines]\n",
    "    rv +=  [r'\\end{bmatrix}']\n",
    "    return '\\n'.join(rv)"
   ]
  },
  {
   "cell_type": "code",
   "execution_count": 5,
   "metadata": {},
   "outputs": [],
   "source": [
    "C = np.array([[105, 1267, 1134, 2758, 515, 1350, 1311, 1750, 1565, 1137, 3110, 1365]])"
   ]
  },
  {
   "cell_type": "code",
   "execution_count": 6,
   "metadata": {},
   "outputs": [],
   "source": [
    "A = np.array([  [     1,       1,       1,       1,       1,       1,       0,       0,       0,       0,       0,       0],\n",
    "                [     0,       0,       0,       0,       0,       0,       1,       1,       1,       1,       1,       1],\n",
    "                [   100,      50,      50,      50,     100,     100,      50,     100,     100,     100,     100,     100],\n",
    "                [   100,      50,      50,      25,      50,     150,      50,     100,     100,      50,      50,      50],\n",
    "                [     0,       0,       0,       0,       0,      12,       0,       0,      12,       0,       0,       0],\n",
    "                [     1,       1,       2,       1,       1,       3,       1,       2,       2,       2,       3,       1],\n",
    "                [     6,      29,      32,      14,      54,      60,       0,       0,      18,      13,      29,       8],\n",
    "                [     2,       0,      17,      23,       0,       0,      22,       6,      50,     102,      77,      31],\n",
    "                [     0,       0,       0,       0,       0,      12,      35,      24,      80,       0,     112,      58],\n",
    "                [     9,       8,       7,      34,      26,      22,       0,       0,      52,       0,      43,       0],\n",
    "                [   1.5,     1.5,     1.5,     1.5,     1.5,     1.5,     1.5,     1.5,     1.5,     1.5,     1.5,     1.5],\n",
    "                [     1,       1,       1,       1,       1,       1,       1,       1,       1,       1,       1,       1],\n",
    "                [   0.5,     0.5,     0.5,     0.5,     0.5,     0.5,     0.5,     0.5,     0.5,     0.5,     0.5,     0.5],\n",
    "                [   0.5,       0,       0,       0,       0,       0,       0,       0,       0,       0,       0,       0],\n",
    "                [   390,     355,     370,     430,     440,       0,     275,       0,     100,     133,     213,     100],\n",
    "                [   275,       0,     470,     305,       0,       0,    1430,     188,    1015,     955,    1343,    1215],\n",
    "                [     0,       0,     150,       0,       0,     750,     443,     840,    1683,       0,    1748,    1095],\n",
    "                [   300,     295,     305,     303,     210,     860,       0,       0,       0,       0,       0,       0],\n",
    "                [345000,  233000,  216000,  242000,  360000,  650000,  244000,  242000,  310000,  263000,  250000,  285000]])"
   ]
  },
  {
   "cell_type": "code",
   "execution_count": 7,
   "metadata": {},
   "outputs": [
    {
     "name": "stdout",
     "output_type": "stream",
     "text": [
      "\\begin{bmatrix}\n",
      "  390. & 355. & 370. & 430. & 440. & 0. & 275. & 0. & 100.\\\\\n",
      "  133. & 213. & 100.\\\\\n",
      "  275. & 0. & 470. & 305. & 0. & 0. & 1430. & 188. & 1015.\\\\\n",
      "  955. & 1343. & 1215.\\\\\n",
      "  0. & 0. & 150. & 0. & 0. & 750. & 443. & 840. & 1683.\\\\\n",
      "  0. & 1748. & 1095.\\\\\n",
      "  300. & 295. & 305. & 303. & 210. & 860. & 0. & 0. & 0.\\\\\n",
      "  0. & 0. & 0.\\\\\n",
      "  345000. & 233000. & 216000. & 242000. & 360000. & 650000. & 244000. & 242000. & 310000.\\\\\n",
      "  263000. & 250000. & 285000.\\\\\n",
      "\\end{bmatrix}\n"
     ]
    }
   ],
   "source": [
    "np.set_printoptions(precision = 3, suppress = True)\n",
    "print(bmatrix(A[14:20, 0:12]))\n"
   ]
  },
  {
   "cell_type": "code",
   "execution_count": 8,
   "metadata": {},
   "outputs": [],
   "source": [
    "b = np.array([2395,2260,419190,397560,7000,13075,50593,554800,562400,562400,103056,103056,103056,954,20699716,20929709,21159705,21159705,1445855000])"
   ]
  },
  {
   "cell_type": "code",
   "execution_count": 9,
   "metadata": {},
   "outputs": [],
   "source": [
    "def create_var():\n",
    "    var = np.array([])\n",
    "\n",
    "    lbx = [0] * 12\n",
    "    #lbx[0] = 1500\n",
    "\n",
    "\n",
    "    for i in range(1, 13):\n",
    "        var = np.append(var, np.array([pulp.LpVariable(\"x{}\".format(i), lowBound = lbx[i-1], upBound=None)]))\n",
    "    \n",
    "    return var"
   ]
  },
  {
   "cell_type": "code",
   "execution_count": 10,
   "metadata": {},
   "outputs": [],
   "source": [
    "def objective():\n",
    "    var = create_var()\n",
    "\n",
    "    fo = C.dot(var)[0]\n",
    "\n",
    "    return (var, fo)"
   ]
  },
  {
   "cell_type": "code",
   "execution_count": 11,
   "metadata": {},
   "outputs": [],
   "source": [
    "def print_solution(sol, linearProblem, X):\n",
    "    saida = \"\\nStatus = {} \\nValue = {}\".format(pulp.LpStatus[sol], pulp.value(linearProblem.objective))\n",
    "    \n",
    "    for i in range(0, X.shape[0]):\n",
    "        saida += \"\\n{} = {}\".format(X[i], pulp.value(X[i]))\n",
    "    \n",
    "    print(saida)"
   ]
  },
  {
   "cell_type": "code",
   "execution_count": 12,
   "metadata": {},
   "outputs": [],
   "source": [
    "d_var, f = objective()\n",
    "model = pulp.LpProblem(\"First_Model\", pulp.LpMaximize)\n",
    "\n",
    "model += f \n",
    "\n",
    "Ax = A.dot(d_var)\n",
    "\n",
    "for i in range(0, Ax.shape[0]):\n",
    "    model += Ax[i] <= b[i]"
   ]
  },
  {
   "cell_type": "code",
   "execution_count": 13,
   "metadata": {},
   "outputs": [],
   "source": [
    "model.writeLP('models\\original_problem_model_2.lp')\n",
    "solution = model.solve(pulp.GLPK(options=['--ranges sensit2.sen']))"
   ]
  },
  {
   "cell_type": "code",
   "execution_count": 14,
   "metadata": {},
   "outputs": [
    {
     "name": "stdout",
     "output_type": "stream",
     "text": [
      "\n",
      "Status = Optimal \n",
      "Value = 11360603.69\n",
      "x1 = 0.0\n",
      "x2 = 0.0\n",
      "x3 = 0.0\n",
      "x4 = 2395.0\n",
      "x5 = 0.0\n",
      "x6 = 0.0\n",
      "x7 = 0.0\n",
      "x8 = 1671.62\n",
      "x9 = 0.0\n",
      "x10 = 0.0\n",
      "x11 = 588.379\n",
      "x12 = 0.0\n"
     ]
    }
   ],
   "source": [
    "print_solution(sol=solution, linearProblem=model, X=d_var)"
   ]
  },
  {
   "cell_type": "code",
   "execution_count": 15,
   "metadata": {},
   "outputs": [
    {
     "name": "stdout",
     "output_type": "stream",
     "text": [
      "x1 = 0.0 \tReduced Cost = None\n",
      "x10 = 0.0 \tReduced Cost = None\n",
      "x11 = 588.379 \tReduced Cost = None\n",
      "x12 = 0.0 \tReduced Cost = None\n",
      "x2 = 0.0 \tReduced Cost = None\n",
      "x3 = 0.0 \tReduced Cost = None\n",
      "x4 = 2395.0 \tReduced Cost = None\n",
      "x5 = 0.0 \tReduced Cost = None\n",
      "x6 = 0.0 \tReduced Cost = None\n",
      "x7 = 0.0 \tReduced Cost = None\n",
      "x8 = 1671.62 \tReduced Cost = None\n",
      "x9 = 0.0 \tReduced Cost = None\n"
     ]
    }
   ],
   "source": [
    "for v in model.variables():\n",
    "    print(v.name, \"=\", v.varValue, \"\\tReduced Cost =\", v.dj)"
   ]
  },
  {
   "cell_type": "code",
   "execution_count": 16,
   "metadata": {},
   "outputs": [
    {
     "name": "stdout",
     "output_type": "stream",
     "text": [
      "\\begin{bmatrix}\n",
      "  105 & 1267 & 1134 & 2758 & 515 & 1350 & 1311 & 1750 & 1565 & 1137 & 3110 & 1365\\\\\n",
      "\\end{bmatrix}\n"
     ]
    }
   ],
   "source": [
    "print(bmatrix(C))"
   ]
  }
 ],
 "metadata": {
  "interpreter": {
   "hash": "9a1856c9edf0738a39a3b6ae491351fcb0615268cc84d8edb9e8cb55907f2c8c"
  },
  "kernelspec": {
   "display_name": "Python 3.10.4 ('PO')",
   "language": "python",
   "name": "python3"
  },
  "language_info": {
   "codemirror_mode": {
    "name": "ipython",
    "version": 3
   },
   "file_extension": ".py",
   "mimetype": "text/x-python",
   "name": "python",
   "nbconvert_exporter": "python",
   "pygments_lexer": "ipython3",
   "version": "3.10.4"
  },
  "orig_nbformat": 4
 },
 "nbformat": 4,
 "nbformat_minor": 2
}
