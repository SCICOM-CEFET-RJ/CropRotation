{
 "cells": [
  {
   "cell_type": "code",
   "execution_count": 1,
   "metadata": {},
   "outputs": [],
   "source": [
    "from matplotlib import pyplot as plt\n",
    "from matplotlib.colors import LinearSegmentedColormap\n",
    "import seaborn as sns\n",
    "import plotly.express as px"
   ]
  },
  {
   "cell_type": "code",
   "execution_count": 2,
   "metadata": {},
   "outputs": [],
   "source": [
    "import numpy as np\n",
    "import pandas as pd"
   ]
  },
  {
   "cell_type": "code",
   "execution_count": 3,
   "metadata": {},
   "outputs": [],
   "source": [
    "import pulp"
   ]
  },
  {
   "cell_type": "code",
   "execution_count": 4,
   "metadata": {},
   "outputs": [],
   "source": [
    "f_conv_mon = 0.0008"
   ]
  },
  {
   "cell_type": "code",
   "execution_count": 5,
   "metadata": {},
   "outputs": [],
   "source": [
    "def bmatrix(a):\n",
    "    if len(a.shape) > 2:\n",
    "        raise ValueError('bmatrix can at most display two dimensions')\n",
    "    lines = str(a).replace('[', '').replace(']', '').splitlines()\n",
    "    rv = [r'\\begin{bmatrix}']\n",
    "    rv += ['  ' + ' & '.join(l.split()) + r'\\\\' for l in lines]\n",
    "    rv +=  [r'\\end{bmatrix}']\n",
    "    return '\\n'.join(rv)"
   ]
  },
  {
   "cell_type": "code",
   "execution_count": 6,
   "metadata": {},
   "outputs": [],
   "source": [
    "C = np.array([[105, 1267, 1134, 2758, 515, 1350, 1311, 1750, 1565, 1137, 3110, 1365]]) #dinar\n",
    "\n",
    "C = C * f_conv_mon\n",
    "\n",
    "C = np.concatenate((C[:, 0:1], C[:, 2:4], C[:, 5:11]), axis=1)\n",
    "\n",
    "C = np.concatenate((C, C), axis=1)\n"
   ]
  },
  {
   "cell_type": "code",
   "execution_count": 7,
   "metadata": {},
   "outputs": [],
   "source": [
    "A = np.array([  [     1,       1,       1,       1,       1,       1,       0,       0,       0,       0,       0,       0],\n",
    "                [     0,       0,       0,       0,       0,       0,       1,       1,       1,       1,       1,       1],\n",
    "                [   100,      50,      50,      50,     100,     100,      50,     100,     100,     100,     100,     100],\n",
    "                [   100,      50,      50,      25,      50,     150,      50,     100,     100,      50,      50,      50],\n",
    "                [     0,       0,       0,       0,       0,      12,       0,       0,      12,       0,       0,       0],\n",
    "                [     1,       1,       2,       1,       1,       3,       1,       2,       2,       2,       3,       1],\n",
    "                [     6,      29,      32,      14,      54,      60,       0,       0,      18,      13,      29,       8],\n",
    "                [     2,       0,      17,      23,       0,       0,      22,       6,      50,     102,      77,      31],\n",
    "                [     0,       0,       0,       0,       0,      12,      35,      24,      80,       0,     112,      58],\n",
    "                [     9,       8,       7,      34,      26,      22,       0,       0,      52,       0,      43,       0],\n",
    "                [   1.5,     1.5,     1.5,     1.5,     1.5,     1.5,     1.5,     1.5,     1.5,     1.5,     1.5,     1.5],\n",
    "                [     1,       1,       1,       1,       1,       1,       1,       1,       1,       1,       1,       1],\n",
    "                [   0.5,     0.5,     0.5,     0.5,     0.5,     0.5,     0.5,     0.5,     0.5,     0.5,     0.5,     0.5],\n",
    "                [   0.5,       0,       0,       0,       0,       0,       0,       0,       0,       0,       0,       0],\n",
    "                [   390,     355,     370,     430,     440,       0,     275,       0,     100,     133,     213,     100],\n",
    "                [   275,       0,     470,     305,       0,       0,    1430,     188,    1015,     955,    1343,    1215],\n",
    "                [     0,       0,     150,       0,       0,     750,     443,     840,    1683,       0,    1748,    1095],\n",
    "                [   300,     295,     305,     303,     210,     860,       0,       0,       0,       0,       0,       0],\n",
    "                [345000,  233000,  216000,  242000,  360000,  650000,  244000,  242000,  310000,  263000,  250000,  285000]])"
   ]
  },
  {
   "cell_type": "code",
   "execution_count": 8,
   "metadata": {},
   "outputs": [],
   "source": [
    "A[18,:] = A[18,:] * f_conv_mon"
   ]
  },
  {
   "cell_type": "code",
   "execution_count": 9,
   "metadata": {},
   "outputs": [],
   "source": [
    "A = np.concatenate((A[:, 0:1], A[:, 2:4], A[:, 5:11]), axis=1)\n",
    "A = np.concatenate((np.concatenate((A, np.zeros(A.shape)), axis=1), \n",
    "                    np.concatenate((np.zeros(A.shape), A), axis=1),\n",
    "                    np.concatenate((-np.ones((1, 1)) ,  np.zeros((1, 9)),  np.ones((1, 2))  ,  np.zeros((1, 6))), axis=1),\n",
    "                    np.concatenate(( np.zeros((1, 1)), -np.ones((1, 2)) ,  np.zeros((1, 11)),  np.ones((1, 1))  , np.zeros((1, 3))), axis=1)\n",
    "                    ), axis=0)"
   ]
  },
  {
   "cell_type": "code",
   "execution_count": 10,
   "metadata": {},
   "outputs": [
    {
     "name": "stdout",
     "output_type": "stream",
     "text": [
      "\\begin{bmatrix}\n",
      "  -1. & 0. & 0. & 0. & 0. & 0. & 0. & 0. & 0. & 0. & 1. & 1. & 0. & 0. & 0. & 0. & 0. & 0.\\\\\n",
      "  0. & -1. & -1. & 0. & 0. & 0. & 0. & 0. & 0. & 0. & 0. & 0. & 0. & 0. & 1. & 0. & 0. & 0.\\\\\n",
      "\\end{bmatrix}\n"
     ]
    }
   ],
   "source": [
    "np.set_printoptions(precision = 3, suppress = True)\n",
    "print(bmatrix(A[38:40, 0:100]))"
   ]
  },
  {
   "cell_type": "code",
   "execution_count": 11,
   "metadata": {},
   "outputs": [],
   "source": [
    "b = np.array([2395,2260,419190,397560,7000,13075,50593,554800,562400,562400,103056,103056,103056,954,20699716,20929709,21159705,21159705,1445855000]) #dinar\n",
    "\n",
    "b[18] = b[18] * f_conv_mon"
   ]
  },
  {
   "cell_type": "code",
   "execution_count": 12,
   "metadata": {},
   "outputs": [],
   "source": [
    "b = np.concatenate((b, b, np.array([0, 0])), axis=0)"
   ]
  },
  {
   "cell_type": "code",
   "execution_count": 13,
   "metadata": {},
   "outputs": [],
   "source": [
    "def create_var():\n",
    "    var = np.array([])\n",
    "\n",
    "    lbx = [0] * 18\n",
    "    lbx[0] = 1500\n",
    "    lbx[9] = 1500\n",
    "\n",
    "\n",
    "    for i in range(1, 19):\n",
    "        var = np.append(var, np.array([pulp.LpVariable(\"x{}\".format(i), lowBound = lbx[i-1], upBound=None)]))\n",
    "    \n",
    "    return var"
   ]
  },
  {
   "cell_type": "code",
   "execution_count": 14,
   "metadata": {},
   "outputs": [],
   "source": [
    "def objective():\n",
    "    var = create_var()\n",
    "\n",
    "    fo = C.dot(var)[0]\n",
    "\n",
    "    return (var, fo)"
   ]
  },
  {
   "cell_type": "code",
   "execution_count": 15,
   "metadata": {},
   "outputs": [],
   "source": [
    "def print_solution(sol, linearProblem, X):\n",
    "    saida = \"\\nStatus = {} \\nValue = {}\".format(pulp.LpStatus[sol], pulp.value(linearProblem.objective))\n",
    "    \n",
    "    for i in range(0, X.shape[0]):\n",
    "        saida += \"\\n{} = {}\".format(X[i], pulp.value(X[i]))\n",
    "    \n",
    "    print(saida)"
   ]
  },
  {
   "cell_type": "code",
   "execution_count": 16,
   "metadata": {},
   "outputs": [],
   "source": [
    "d_var, f = objective()\n",
    "model = pulp.LpProblem(\"First_Model\", pulp.LpMaximize)\n",
    "\n",
    "model += f \n",
    "\n",
    "Ax = A.dot(d_var)\n",
    "\n",
    "for i in range(0, Ax.shape[0]):\n",
    "    model += Ax[i] <= b[i]"
   ]
  },
  {
   "cell_type": "code",
   "execution_count": 17,
   "metadata": {},
   "outputs": [],
   "source": [
    "#model.writeLP('models\\original_problem_model.lp')\n",
    "solution = model.solve(pulp.GLPK(path='F:\\glpk-4.65\\w64\\glpsol.exe', options=['--ranges models\\sensit_original_2y.sen']))"
   ]
  },
  {
   "cell_type": "code",
   "execution_count": 18,
   "metadata": {},
   "outputs": [
    {
     "name": "stdout",
     "output_type": "stream",
     "text": [
      "\n",
      "Status = Optimal \n",
      "Value = 12571.7924864\n",
      "x1 = 1500.0\n",
      "x2 = 0.0\n",
      "x3 = 895.0\n",
      "x4 = 0.0\n",
      "x5 = 31.2\n",
      "x6 = 1226.63\n",
      "x7 = 0.0\n",
      "x8 = 0.0\n",
      "x9 = 1002.17\n",
      "x10 = 1500.0\n",
      "x11 = 0.0\n",
      "x12 = 895.0\n",
      "x13 = 0.0\n",
      "x14 = 362.828\n",
      "x15 = 895.0\n",
      "x16 = 0.0\n",
      "x17 = 0.0\n",
      "x18 = 1002.17\n"
     ]
    }
   ],
   "source": [
    "print_solution(sol=solution, linearProblem=model, X=d_var)"
   ]
  },
  {
   "cell_type": "code",
   "execution_count": 19,
   "metadata": {},
   "outputs": [
    {
     "name": "stdout",
     "output_type": "stream",
     "text": [
      "x1 = 1500.0 \tReduced Cost = None\n",
      "x10 = 1500.0 \tReduced Cost = None\n",
      "x11 = 0.0 \tReduced Cost = None\n",
      "x12 = 895.0 \tReduced Cost = None\n",
      "x13 = 0.0 \tReduced Cost = None\n",
      "x14 = 362.828 \tReduced Cost = None\n",
      "x15 = 895.0 \tReduced Cost = None\n",
      "x16 = 0.0 \tReduced Cost = None\n",
      "x17 = 0.0 \tReduced Cost = None\n",
      "x18 = 1002.17 \tReduced Cost = None\n",
      "x2 = 0.0 \tReduced Cost = None\n",
      "x3 = 895.0 \tReduced Cost = None\n",
      "x4 = 0.0 \tReduced Cost = None\n",
      "x5 = 31.2 \tReduced Cost = None\n",
      "x6 = 1226.63 \tReduced Cost = None\n",
      "x7 = 0.0 \tReduced Cost = None\n",
      "x8 = 0.0 \tReduced Cost = None\n",
      "x9 = 1002.17 \tReduced Cost = None\n"
     ]
    }
   ],
   "source": [
    "for v in model.variables():\n",
    "    print(v.name, \"=\", v.varValue, \"\\tReduced Cost =\", v.dj)"
   ]
  },
  {
   "cell_type": "code",
   "execution_count": 20,
   "metadata": {},
   "outputs": [
    {
     "name": "stdout",
     "output_type": "stream",
     "text": [
      "\\begin{bmatrix}\n",
      "  0.084 & 0.907 & 2.206 & 1.08 & 1.049 & 1.4 & 1.252 & 0.91 & 2.488 & 0.084 & 0.907 & 2.206\\\\\n",
      "  1.08 & 1.049 & 1.4 & 1.252 & 0.91 & 2.488\\\\\n",
      "\\end{bmatrix}\n"
     ]
    }
   ],
   "source": [
    "print(bmatrix(C))"
   ]
  },
  {
   "cell_type": "code",
   "execution_count": 21,
   "metadata": {},
   "outputs": [],
   "source": [
    "#from unicodedata import decimal\n",
    "#df = pd.DataFrame(b.transpose())\n",
    "#df.to_clipboard(index=False,header=False, decimal=',')"
   ]
  }
 ],
 "metadata": {
  "interpreter": {
   "hash": "9a1856c9edf0738a39a3b6ae491351fcb0615268cc84d8edb9e8cb55907f2c8c"
  },
  "kernelspec": {
   "display_name": "Python 3.10.4 ('PO')",
   "language": "python",
   "name": "python3"
  },
  "language_info": {
   "codemirror_mode": {
    "name": "ipython",
    "version": 3
   },
   "file_extension": ".py",
   "mimetype": "text/x-python",
   "name": "python",
   "nbconvert_exporter": "python",
   "pygments_lexer": "ipython3",
   "version": "3.10.4"
  },
  "orig_nbformat": 4
 },
 "nbformat": 4,
 "nbformat_minor": 2
}
